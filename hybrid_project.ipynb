{
 "cells": [
  {
   "cell_type": "markdown",
   "id": "ab6af646",
   "metadata": {},
   "source": [
    "# Hybrid project: Casini-style relative entropy + JT island tie-in\n",
    "\n",
    "**Author:** Ammar Hamza Saad Abdulraheem\n",
    "\n",
    "**Purpose of this notebook:**  \n",
    "This notebook is a beginner-friendly starter for the hybrid project. It demonstrates:\n",
    "- a toy symbolic calculation of relative entropy between two Gaussians (intuition-building),\n",
    "- a small numeric check and plot,\n",
    "- a short \"toy\" Page-curve schematic to illustrate the JT/island motivation,\n",
    "- notes on next steps and how to map the notebook content to the Casini derivation.\n",
    "\n",
    "**How to use:**  \n",
    "1. Install Python and Jupyter (see the project README or the assistant's instructions).  \n",
    "2. Open this notebook in JupyterLab or Jupyter Notebook and run cells in order (Shift+Enter).  \n",
    "3. Use the provided cells as templates to expand into the full derivation and numeric checks.\n"
   ]
  },
  {
   "cell_type": "code",
   "execution_count": null,
   "id": "d449d659",
   "metadata": {},
   "outputs": [],
   "source": [
    "# Cell: Imports\n",
    "import numpy as np\n",
    "import matplotlib.pyplot as plt\n",
    "import sympy as sp\n",
    "from sympy import symbols, exp, sqrt, pi, integrate, oo, log, series\n",
    "sp.init_printing(use_unicode=True)\n",
    "\n",
    "print(\"Sympy version:\", sp.__version__)\n"
   ]
  },
  {
   "cell_type": "code",
   "execution_count": null,
   "id": "63ffcd4d",
   "metadata": {},
   "outputs": [],
   "source": [
    "# Cell: Toy symbolic relative entropy between two Gaussians\n",
    "x = symbols('x', real=True)\n",
    "mu, sigma0, sigma = symbols('mu sigma0 sigma', positive=True)\n",
    "\n",
    "p = (1/(sqrt(2*pi)*sigma)) * sp.exp(-(x-mu)**2/(2*sigma**2))\n",
    "q = (1/(sqrt(2*pi)*sigma0)) * sp.exp(-(x)**2/(2*sigma0**2))\n",
    "\n",
    "Srel = sp.simplify(sp.integrate(p * (sp.log(p) - sp.log(q)), (x, -sp.oo, sp.oo)))\n",
    "Srel\n"
   ]
  },
  {
   "cell_type": "code",
   "execution_count": null,
   "id": "12cdf005",
   "metadata": {},
   "outputs": [],
   "source": [
    "# Cell: Series expansion for small mu (perturbative excitation)\n",
    "Srel_series_mu = sp.series(Srel.subs({sigma: sigma0}), mu, 0, 3)\n",
    "Srel_series_mu\n"
   ]
  },
  {
   "cell_type": "code",
   "execution_count": null,
   "id": "5df47fe7",
   "metadata": {},
   "outputs": [],
   "source": [
    "# Cell: Numeric check & plot (toy example)\n",
    "def S_rel_gauss(mu_val, sigma_val, sigma0_val=1.0):\n",
    "    s = sigma_val; s0 = sigma0_val; m = mu_val\n",
    "    return np.log(s0/s) + (s**2 + m**2)/(2*s0**2) - 0.5\n",
    "\n",
    "mus = np.linspace(0,0.9,31)\n",
    "Sr_vals = [S_rel_gauss(m, 1.0, 1.0) for m in mus]\n",
    "plt.figure(figsize=(6,4))\n",
    "plt.plot(mus, Sr_vals, '-o')\n",
    "plt.xlabel('mu (small excitation)')\n",
    "plt.ylabel('S_rel (toy)')\n",
    "plt.title('Toy relative entropy between two Gaussians (sigma=sigma0=1)')\n",
    "plt.grid(True)\n",
    "plt.show()\n"
   ]
  },
  {
   "cell_type": "markdown",
   "id": "bfc4c36e",
   "metadata": {},
   "source": [
    "## Modular Hamiltonian (heuristic)\n",
    "\n",
    "In Rindler wedge for a QFT, the modular Hamiltonian for the vacuum restricted to x>0\n",
    "can be written (heuristically) as:\n",
    "\n",
    "\\[\n",
    "K = 2\\pi \\int_{x>0} x \\, T_{00}(x) \\, dx\n",
    "\\]\n",
    "\n",
    "This notebook uses this form as intuition; implementing it concretely requires choosing a field discretization or a model (free scalar mode expansion)."
   ]
  },
  {
   "cell_type": "code",
   "execution_count": null,
   "id": "8b5e4f87",
   "metadata": {},
   "outputs": [],
   "source": [
    "# Cell: Toy Page-like curve (illustrative)\n",
    "times = np.linspace(0, 10, 200)\n",
    "S_max = 5.0\n",
    "S_t = S_max * (1 - np.exp(-0.6 * times))\n",
    "plt.figure(figsize=(6,4))\n",
    "plt.plot(times, S_t)\n",
    "plt.xlabel('time (toy)')\n",
    "plt.ylabel('entropy (toy)')\n",
    "plt.title('Toy Page-like curve (illustration)')\n",
    "plt.grid(True)\n",
    "plt.show()\n"
   ]
  },
  {
   "cell_type": "markdown",
   "id": "97352c51",
   "metadata": {},
   "source": [
    "# Next steps (suggested)\n",
    "1. Start a short \"cheat sheet\" of formulas you need (von Neumann entropy, relative entropy, modular Hamiltonian).  \n",
    "2. Replace the toy Gaussian example with the QFT setup you choose (Rindler wedge or interval in a CFT). For QFT, you may discretize a free scalar field on a 1D lattice and compute approximate mode sums.  \n",
    "3. Reproduce Casini's steps symbolically and map each symbol in the paper to a cell in this notebook.  \n",
    "4. For the JT appendix, read one pedagogical island paper and map its simple analytic expressions to a short notebook section.  \n",
    "5. Commit frequently to GitHub and keep a one-page summary ready to send to supervisors.\n"
   ]
  }
 ],
 "metadata": {},
 "nbformat": 4,
 "nbformat_minor": 5
}
