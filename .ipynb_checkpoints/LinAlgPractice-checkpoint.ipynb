{
 "cells": [
  {
   "cell_type": "markdown",
   "id": "02ec1571-f8ea-46be-b1fa-defd6282e7bf",
   "metadata": {},
   "source": [
    "# Hybrid project: Casini-style relative entropy + JT island tie-in\n",
    "\n",
    "**Author:** Ammar Hamza Saad Abdulraheem\n",
    "\n",
    "**Purpose of this notebook:**  \n",
    "This notebook is the first attempt of the author to write Python code from scratch to get an idea of how things work here. The example used for practice is to simply calculate the eigenvalues and eigenvectors of a 2x2 matrix.\n",
    "\n",
    "\n",
    "**How to use:**  \n",
    "1. Install Python and Jupyter (see the project README or the assistant's instructions).  \n",
    "2. Open this notebook in JupyterLab or Jupyter Notebook and run cells in order (Shift+Enter).  \n",
    "3. Use the provided cells as templates to expand into the full derivation and numeric checks.\n"
   ]
  },
  {
   "cell_type": "code",
   "execution_count": 103,
   "id": "5523377c-6dd4-4388-81db-dc7767a5763d",
   "metadata": {},
   "outputs": [
    {
     "name": "stdout",
     "output_type": "stream",
     "text": [
      "Sympy version: 1.13.3\n"
     ]
    }
   ],
   "source": [
    "#Cell: Imports\n",
    "\n",
    "import numpy as np\n",
    "import sympy as sp\n",
    "\n",
    "from IPython.display import display\n",
    "\n",
    "sp.init_printing(use_latex='mathjax')\n",
    "\n",
    "print(\"Sympy version:\", sp.__version__)"
   ]
  },
  {
   "cell_type": "code",
   "execution_count": 104,
   "id": "fc62d469-2667-46a5-978a-a73683eae849",
   "metadata": {},
   "outputs": [
    {
     "data": {
      "text/latex": [
       "$\\displaystyle \\left[\\begin{matrix}2 & 1\\\\1 & 3\\end{matrix}\\right]$"
      ],
      "text/plain": [
       "⎡2  1⎤\n",
       "⎢    ⎥\n",
       "⎣1  3⎦"
      ]
     },
     "execution_count": 104,
     "metadata": {},
     "output_type": "execute_result"
    }
   ],
   "source": [
    "#Cell: Defining and displaying a Matrix\n",
    "\n",
    "A_entries= [[2,1],[1,3]]\n",
    "\n",
    "A = sp.Matrix(A_entries)\n",
    "\n",
    "A"
   ]
  },
  {
   "cell_type": "code",
   "execution_count": 106,
   "id": "507928b5-d1fe-49c5-9def-680a6c7d19b8",
   "metadata": {},
   "outputs": [
    {
     "name": "stdout",
     "output_type": "stream",
     "text": [
      "Eigenvalues are:\n"
     ]
    },
    {
     "data": {
      "text/latex": [
       "$\\displaystyle \\left[ \\frac{5}{2} - \\frac{\\sqrt{5}}{2}, \\  \\frac{\\sqrt{5}}{2} + \\frac{5}{2}\\right]$"
      ],
      "text/plain": [
       "⎡5   √5  √5   5⎤\n",
       "⎢─ - ──, ── + ─⎥\n",
       "⎣2   2   2    2⎦"
      ]
     },
     "metadata": {},
     "output_type": "display_data"
    },
    {
     "name": "stdout",
     "output_type": "stream",
     "text": [
      "Eigenvectors are:\n"
     ]
    },
    {
     "data": {
      "text/latex": [
       "$\\displaystyle \\left\\{ x_{1} : x_{2} \\left(- \\frac{\\sqrt{5}}{2} - \\frac{1}{2}\\right)\\right\\}$"
      ],
      "text/plain": [
       "⎧       ⎛  √5   1⎞⎫\n",
       "⎨x₁: x₂⋅⎜- ── - ─⎟⎬\n",
       "⎩       ⎝  2    2⎠⎭"
      ]
     },
     "metadata": {},
     "output_type": "display_data"
    },
    {
     "data": {
      "text/latex": [
       "$\\displaystyle \\left\\{ x_{1} : x_{2} \\left(- \\frac{1}{2} + \\frac{\\sqrt{5}}{2}\\right)\\right\\}$"
      ],
      "text/plain": [
       "⎧       ⎛  1   √5⎞⎫\n",
       "⎨x₁: x₂⋅⎜- ─ + ──⎟⎬\n",
       "⎩       ⎝  2   2 ⎠⎭"
      ]
     },
     "metadata": {},
     "output_type": "display_data"
    }
   ],
   "source": [
    "#Cell: Numeric eigen-decomposition\n",
    "\n",
    "l = sp.symbols('lambda', real=True)\n",
    "\n",
    "l_matrix = A - l * sp.eye(2)\n",
    "\n",
    "char_equation = l_matrix.det()\n",
    "\n",
    "solution = sp.solve(char_equation, l)\n",
    "\n",
    "print('Eigenvalues are:')\n",
    "      \n",
    "display(solution)\n",
    "\n",
    "x1, x2 = sp.symbols('x1 x2', real=True)\n",
    "\n",
    "x = sp.Matrix([[x1], [x2]])\n",
    "\n",
    "vec_equation1 = A * x - solution[0] * x\n",
    "\n",
    "vec_equation2 = A * x - solution[1] * x\n",
    "\n",
    "eig_vec1 = sp.solve(vec_equation1, x)\n",
    "\n",
    "eig_vec2 = sp.solve(vec_equation2, x)\n",
    "\n",
    "print('Eigenvectors are:')\n",
    "\n",
    "display(eig_vec1)\n",
    "display(eig_vec2)"
   ]
  },
  {
   "cell_type": "code",
   "execution_count": null,
   "id": "27a3362b-8ff6-4d58-ac04-519f5de9b28d",
   "metadata": {},
   "outputs": [],
   "source": []
  }
 ],
 "metadata": {
  "kernelspec": {
   "display_name": "Python [conda env:base] *",
   "language": "python",
   "name": "conda-base-py"
  },
  "language_info": {
   "codemirror_mode": {
    "name": "ipython",
    "version": 3
   },
   "file_extension": ".py",
   "mimetype": "text/x-python",
   "name": "python",
   "nbconvert_exporter": "python",
   "pygments_lexer": "ipython3",
   "version": "3.13.5"
  }
 },
 "nbformat": 4,
 "nbformat_minor": 5
}
